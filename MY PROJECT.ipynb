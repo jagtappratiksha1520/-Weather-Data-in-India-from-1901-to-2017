{
 "cells": [
  {
   "cell_type": "code",
   "execution_count": 1,
   "id": "de8f5658-3d52-4dde-a00c-38c3031df5a5",
   "metadata": {},
   "outputs": [],
   "source": [
    "import pandas as pd"
   ]
  },
  {
   "cell_type": "code",
   "execution_count": 4,
   "id": "241f6b2c-a25f-42a3-b8fa-b5fe35c881c1",
   "metadata": {},
   "outputs": [
    {
     "data": {
      "text/html": [
       "<div>\n",
       "<style scoped>\n",
       "    .dataframe tbody tr th:only-of-type {\n",
       "        vertical-align: middle;\n",
       "    }\n",
       "\n",
       "    .dataframe tbody tr th {\n",
       "        vertical-align: top;\n",
       "    }\n",
       "\n",
       "    .dataframe thead th {\n",
       "        text-align: right;\n",
       "    }\n",
       "</style>\n",
       "<table border=\"1\" class=\"dataframe\">\n",
       "  <thead>\n",
       "    <tr style=\"text-align: right;\">\n",
       "      <th></th>\n",
       "      <th>Unnamed: 0</th>\n",
       "      <th>YEAR</th>\n",
       "      <th>JAN</th>\n",
       "      <th>FEB</th>\n",
       "      <th>MAR</th>\n",
       "      <th>APR</th>\n",
       "      <th>MAY</th>\n",
       "      <th>JUN</th>\n",
       "      <th>JUL</th>\n",
       "      <th>AUG</th>\n",
       "      <th>SEP</th>\n",
       "      <th>OCT</th>\n",
       "      <th>NOV</th>\n",
       "      <th>DEC</th>\n",
       "    </tr>\n",
       "  </thead>\n",
       "  <tbody>\n",
       "    <tr>\n",
       "      <th>0</th>\n",
       "      <td>0</td>\n",
       "      <td>1901</td>\n",
       "      <td>17.99</td>\n",
       "      <td>19.43</td>\n",
       "      <td>23.49</td>\n",
       "      <td>26.41</td>\n",
       "      <td>28.28</td>\n",
       "      <td>28.60</td>\n",
       "      <td>27.49</td>\n",
       "      <td>26.98</td>\n",
       "      <td>26.26</td>\n",
       "      <td>25.08</td>\n",
       "      <td>21.73</td>\n",
       "      <td>18.95</td>\n",
       "    </tr>\n",
       "    <tr>\n",
       "      <th>1</th>\n",
       "      <td>1</td>\n",
       "      <td>1902</td>\n",
       "      <td>19.00</td>\n",
       "      <td>20.39</td>\n",
       "      <td>24.10</td>\n",
       "      <td>26.54</td>\n",
       "      <td>28.68</td>\n",
       "      <td>28.44</td>\n",
       "      <td>27.29</td>\n",
       "      <td>27.05</td>\n",
       "      <td>25.95</td>\n",
       "      <td>24.37</td>\n",
       "      <td>21.33</td>\n",
       "      <td>18.78</td>\n",
       "    </tr>\n",
       "    <tr>\n",
       "      <th>2</th>\n",
       "      <td>2</td>\n",
       "      <td>1903</td>\n",
       "      <td>18.32</td>\n",
       "      <td>19.79</td>\n",
       "      <td>22.46</td>\n",
       "      <td>26.03</td>\n",
       "      <td>27.93</td>\n",
       "      <td>28.41</td>\n",
       "      <td>28.04</td>\n",
       "      <td>26.63</td>\n",
       "      <td>26.34</td>\n",
       "      <td>24.57</td>\n",
       "      <td>20.96</td>\n",
       "      <td>18.29</td>\n",
       "    </tr>\n",
       "    <tr>\n",
       "      <th>3</th>\n",
       "      <td>3</td>\n",
       "      <td>1904</td>\n",
       "      <td>17.77</td>\n",
       "      <td>19.39</td>\n",
       "      <td>22.95</td>\n",
       "      <td>26.73</td>\n",
       "      <td>27.83</td>\n",
       "      <td>27.85</td>\n",
       "      <td>26.84</td>\n",
       "      <td>26.73</td>\n",
       "      <td>25.84</td>\n",
       "      <td>24.36</td>\n",
       "      <td>21.07</td>\n",
       "      <td>18.84</td>\n",
       "    </tr>\n",
       "    <tr>\n",
       "      <th>4</th>\n",
       "      <td>4</td>\n",
       "      <td>1905</td>\n",
       "      <td>17.40</td>\n",
       "      <td>17.79</td>\n",
       "      <td>21.78</td>\n",
       "      <td>24.84</td>\n",
       "      <td>28.32</td>\n",
       "      <td>28.69</td>\n",
       "      <td>27.67</td>\n",
       "      <td>27.47</td>\n",
       "      <td>26.29</td>\n",
       "      <td>26.16</td>\n",
       "      <td>22.07</td>\n",
       "      <td>18.71</td>\n",
       "    </tr>\n",
       "    <tr>\n",
       "      <th>...</th>\n",
       "      <td>...</td>\n",
       "      <td>...</td>\n",
       "      <td>...</td>\n",
       "      <td>...</td>\n",
       "      <td>...</td>\n",
       "      <td>...</td>\n",
       "      <td>...</td>\n",
       "      <td>...</td>\n",
       "      <td>...</td>\n",
       "      <td>...</td>\n",
       "      <td>...</td>\n",
       "      <td>...</td>\n",
       "      <td>...</td>\n",
       "      <td>...</td>\n",
       "    </tr>\n",
       "    <tr>\n",
       "      <th>112</th>\n",
       "      <td>112</td>\n",
       "      <td>2013</td>\n",
       "      <td>18.88</td>\n",
       "      <td>21.07</td>\n",
       "      <td>24.53</td>\n",
       "      <td>26.97</td>\n",
       "      <td>29.06</td>\n",
       "      <td>28.24</td>\n",
       "      <td>27.50</td>\n",
       "      <td>27.22</td>\n",
       "      <td>26.87</td>\n",
       "      <td>25.63</td>\n",
       "      <td>22.18</td>\n",
       "      <td>19.69</td>\n",
       "    </tr>\n",
       "    <tr>\n",
       "      <th>113</th>\n",
       "      <td>113</td>\n",
       "      <td>2014</td>\n",
       "      <td>18.81</td>\n",
       "      <td>20.35</td>\n",
       "      <td>23.34</td>\n",
       "      <td>26.91</td>\n",
       "      <td>28.45</td>\n",
       "      <td>29.42</td>\n",
       "      <td>28.07</td>\n",
       "      <td>27.42</td>\n",
       "      <td>26.61</td>\n",
       "      <td>25.38</td>\n",
       "      <td>22.53</td>\n",
       "      <td>19.50</td>\n",
       "    </tr>\n",
       "    <tr>\n",
       "      <th>114</th>\n",
       "      <td>114</td>\n",
       "      <td>2015</td>\n",
       "      <td>19.02</td>\n",
       "      <td>21.23</td>\n",
       "      <td>23.52</td>\n",
       "      <td>26.52</td>\n",
       "      <td>28.82</td>\n",
       "      <td>28.15</td>\n",
       "      <td>28.03</td>\n",
       "      <td>27.64</td>\n",
       "      <td>27.04</td>\n",
       "      <td>25.82</td>\n",
       "      <td>22.95</td>\n",
       "      <td>20.21</td>\n",
       "    </tr>\n",
       "    <tr>\n",
       "      <th>115</th>\n",
       "      <td>115</td>\n",
       "      <td>2016</td>\n",
       "      <td>20.92</td>\n",
       "      <td>23.58</td>\n",
       "      <td>26.61</td>\n",
       "      <td>29.56</td>\n",
       "      <td>30.41</td>\n",
       "      <td>29.70</td>\n",
       "      <td>28.18</td>\n",
       "      <td>28.17</td>\n",
       "      <td>27.72</td>\n",
       "      <td>26.81</td>\n",
       "      <td>23.90</td>\n",
       "      <td>21.89</td>\n",
       "    </tr>\n",
       "    <tr>\n",
       "      <th>116</th>\n",
       "      <td>116</td>\n",
       "      <td>2017</td>\n",
       "      <td>20.59</td>\n",
       "      <td>23.08</td>\n",
       "      <td>25.58</td>\n",
       "      <td>29.17</td>\n",
       "      <td>30.47</td>\n",
       "      <td>29.44</td>\n",
       "      <td>28.31</td>\n",
       "      <td>28.12</td>\n",
       "      <td>28.11</td>\n",
       "      <td>27.24</td>\n",
       "      <td>23.92</td>\n",
       "      <td>21.47</td>\n",
       "    </tr>\n",
       "  </tbody>\n",
       "</table>\n",
       "<p>117 rows × 14 columns</p>\n",
       "</div>"
      ],
      "text/plain": [
       "     Unnamed: 0  YEAR    JAN    FEB    MAR    APR    MAY    JUN    JUL    AUG  \\\n",
       "0             0  1901  17.99  19.43  23.49  26.41  28.28  28.60  27.49  26.98   \n",
       "1             1  1902  19.00  20.39  24.10  26.54  28.68  28.44  27.29  27.05   \n",
       "2             2  1903  18.32  19.79  22.46  26.03  27.93  28.41  28.04  26.63   \n",
       "3             3  1904  17.77  19.39  22.95  26.73  27.83  27.85  26.84  26.73   \n",
       "4             4  1905  17.40  17.79  21.78  24.84  28.32  28.69  27.67  27.47   \n",
       "..          ...   ...    ...    ...    ...    ...    ...    ...    ...    ...   \n",
       "112         112  2013  18.88  21.07  24.53  26.97  29.06  28.24  27.50  27.22   \n",
       "113         113  2014  18.81  20.35  23.34  26.91  28.45  29.42  28.07  27.42   \n",
       "114         114  2015  19.02  21.23  23.52  26.52  28.82  28.15  28.03  27.64   \n",
       "115         115  2016  20.92  23.58  26.61  29.56  30.41  29.70  28.18  28.17   \n",
       "116         116  2017  20.59  23.08  25.58  29.17  30.47  29.44  28.31  28.12   \n",
       "\n",
       "       SEP    OCT    NOV    DEC  \n",
       "0    26.26  25.08  21.73  18.95  \n",
       "1    25.95  24.37  21.33  18.78  \n",
       "2    26.34  24.57  20.96  18.29  \n",
       "3    25.84  24.36  21.07  18.84  \n",
       "4    26.29  26.16  22.07  18.71  \n",
       "..     ...    ...    ...    ...  \n",
       "112  26.87  25.63  22.18  19.69  \n",
       "113  26.61  25.38  22.53  19.50  \n",
       "114  27.04  25.82  22.95  20.21  \n",
       "115  27.72  26.81  23.90  21.89  \n",
       "116  28.11  27.24  23.92  21.47  \n",
       "\n",
       "[117 rows x 14 columns]"
      ]
     },
     "execution_count": 4,
     "metadata": {},
     "output_type": "execute_result"
    }
   ],
   "source": [
    "df=pd.read_csv(r'Weather Data in India from 1901 to 2017.csv')\n",
    "df"
   ]
  },
  {
   "cell_type": "markdown",
   "id": "4aa34ae6-6e32-4826-bf30-07b8a60794ca",
   "metadata": {},
   "source": [
    "# ANALYZE DATA FRAMES"
   ]
  },
  {
   "cell_type": "code",
   "execution_count": 6,
   "id": "61e12036-475b-40ab-b118-0d17f7fdeb89",
   "metadata": {},
   "outputs": [
    {
     "data": {
      "text/html": [
       "<div>\n",
       "<style scoped>\n",
       "    .dataframe tbody tr th:only-of-type {\n",
       "        vertical-align: middle;\n",
       "    }\n",
       "\n",
       "    .dataframe tbody tr th {\n",
       "        vertical-align: top;\n",
       "    }\n",
       "\n",
       "    .dataframe thead th {\n",
       "        text-align: right;\n",
       "    }\n",
       "</style>\n",
       "<table border=\"1\" class=\"dataframe\">\n",
       "  <thead>\n",
       "    <tr style=\"text-align: right;\">\n",
       "      <th></th>\n",
       "      <th>Unnamed: 0</th>\n",
       "      <th>YEAR</th>\n",
       "      <th>JAN</th>\n",
       "      <th>FEB</th>\n",
       "      <th>MAR</th>\n",
       "      <th>APR</th>\n",
       "      <th>MAY</th>\n",
       "      <th>JUN</th>\n",
       "      <th>JUL</th>\n",
       "      <th>AUG</th>\n",
       "      <th>SEP</th>\n",
       "      <th>OCT</th>\n",
       "      <th>NOV</th>\n",
       "      <th>DEC</th>\n",
       "    </tr>\n",
       "  </thead>\n",
       "  <tbody>\n",
       "    <tr>\n",
       "      <th>0</th>\n",
       "      <td>0</td>\n",
       "      <td>1901</td>\n",
       "      <td>17.99</td>\n",
       "      <td>19.43</td>\n",
       "      <td>23.49</td>\n",
       "      <td>26.41</td>\n",
       "      <td>28.28</td>\n",
       "      <td>28.60</td>\n",
       "      <td>27.49</td>\n",
       "      <td>26.98</td>\n",
       "      <td>26.26</td>\n",
       "      <td>25.08</td>\n",
       "      <td>21.73</td>\n",
       "      <td>18.95</td>\n",
       "    </tr>\n",
       "    <tr>\n",
       "      <th>1</th>\n",
       "      <td>1</td>\n",
       "      <td>1902</td>\n",
       "      <td>19.00</td>\n",
       "      <td>20.39</td>\n",
       "      <td>24.10</td>\n",
       "      <td>26.54</td>\n",
       "      <td>28.68</td>\n",
       "      <td>28.44</td>\n",
       "      <td>27.29</td>\n",
       "      <td>27.05</td>\n",
       "      <td>25.95</td>\n",
       "      <td>24.37</td>\n",
       "      <td>21.33</td>\n",
       "      <td>18.78</td>\n",
       "    </tr>\n",
       "    <tr>\n",
       "      <th>2</th>\n",
       "      <td>2</td>\n",
       "      <td>1903</td>\n",
       "      <td>18.32</td>\n",
       "      <td>19.79</td>\n",
       "      <td>22.46</td>\n",
       "      <td>26.03</td>\n",
       "      <td>27.93</td>\n",
       "      <td>28.41</td>\n",
       "      <td>28.04</td>\n",
       "      <td>26.63</td>\n",
       "      <td>26.34</td>\n",
       "      <td>24.57</td>\n",
       "      <td>20.96</td>\n",
       "      <td>18.29</td>\n",
       "    </tr>\n",
       "    <tr>\n",
       "      <th>3</th>\n",
       "      <td>3</td>\n",
       "      <td>1904</td>\n",
       "      <td>17.77</td>\n",
       "      <td>19.39</td>\n",
       "      <td>22.95</td>\n",
       "      <td>26.73</td>\n",
       "      <td>27.83</td>\n",
       "      <td>27.85</td>\n",
       "      <td>26.84</td>\n",
       "      <td>26.73</td>\n",
       "      <td>25.84</td>\n",
       "      <td>24.36</td>\n",
       "      <td>21.07</td>\n",
       "      <td>18.84</td>\n",
       "    </tr>\n",
       "    <tr>\n",
       "      <th>4</th>\n",
       "      <td>4</td>\n",
       "      <td>1905</td>\n",
       "      <td>17.40</td>\n",
       "      <td>17.79</td>\n",
       "      <td>21.78</td>\n",
       "      <td>24.84</td>\n",
       "      <td>28.32</td>\n",
       "      <td>28.69</td>\n",
       "      <td>27.67</td>\n",
       "      <td>27.47</td>\n",
       "      <td>26.29</td>\n",
       "      <td>26.16</td>\n",
       "      <td>22.07</td>\n",
       "      <td>18.71</td>\n",
       "    </tr>\n",
       "  </tbody>\n",
       "</table>\n",
       "</div>"
      ],
      "text/plain": [
       "   Unnamed: 0  YEAR    JAN    FEB    MAR    APR    MAY    JUN    JUL    AUG  \\\n",
       "0           0  1901  17.99  19.43  23.49  26.41  28.28  28.60  27.49  26.98   \n",
       "1           1  1902  19.00  20.39  24.10  26.54  28.68  28.44  27.29  27.05   \n",
       "2           2  1903  18.32  19.79  22.46  26.03  27.93  28.41  28.04  26.63   \n",
       "3           3  1904  17.77  19.39  22.95  26.73  27.83  27.85  26.84  26.73   \n",
       "4           4  1905  17.40  17.79  21.78  24.84  28.32  28.69  27.67  27.47   \n",
       "\n",
       "     SEP    OCT    NOV    DEC  \n",
       "0  26.26  25.08  21.73  18.95  \n",
       "1  25.95  24.37  21.33  18.78  \n",
       "2  26.34  24.57  20.96  18.29  \n",
       "3  25.84  24.36  21.07  18.84  \n",
       "4  26.29  26.16  22.07  18.71  "
      ]
     },
     "execution_count": 6,
     "metadata": {},
     "output_type": "execute_result"
    }
   ],
   "source": [
    "df.head()"
   ]
  },
  {
   "cell_type": "code",
   "execution_count": 7,
   "id": "6a9c8284-e590-4d9d-ad05-498463a50083",
   "metadata": {},
   "outputs": [
    {
     "data": {
      "text/plain": [
       "(117, 14)"
      ]
     },
     "execution_count": 7,
     "metadata": {},
     "output_type": "execute_result"
    }
   ],
   "source": [
    "df.shape"
   ]
  },
  {
   "cell_type": "code",
   "execution_count": 8,
   "id": "8dedfee2-c101-46a6-8b64-37d9f5bb338b",
   "metadata": {},
   "outputs": [
    {
     "data": {
      "text/plain": [
       "RangeIndex(start=0, stop=117, step=1)"
      ]
     },
     "execution_count": 8,
     "metadata": {},
     "output_type": "execute_result"
    }
   ],
   "source": [
    "df.index"
   ]
  },
  {
   "cell_type": "code",
   "execution_count": 9,
   "id": "6102f116-9bbe-43e9-8229-b7647b4a68d1",
   "metadata": {},
   "outputs": [
    {
     "data": {
      "text/plain": [
       "Index(['Unnamed: 0', 'YEAR', 'JAN', 'FEB', 'MAR', 'APR', 'MAY', 'JUN', 'JUL',\n",
       "       'AUG', 'SEP', 'OCT', 'NOV', 'DEC'],\n",
       "      dtype='object')"
      ]
     },
     "execution_count": 9,
     "metadata": {},
     "output_type": "execute_result"
    }
   ],
   "source": [
    "df.columns"
   ]
  },
  {
   "cell_type": "code",
   "execution_count": 10,
   "id": "2bece397-3ac9-491b-b3e4-554ba890fef0",
   "metadata": {},
   "outputs": [
    {
     "data": {
      "text/plain": [
       "Unnamed: 0      int64\n",
       "YEAR            int64\n",
       "JAN           float64\n",
       "FEB           float64\n",
       "MAR           float64\n",
       "APR           float64\n",
       "MAY           float64\n",
       "JUN           float64\n",
       "JUL           float64\n",
       "AUG           float64\n",
       "SEP           float64\n",
       "OCT           float64\n",
       "NOV           float64\n",
       "DEC           float64\n",
       "dtype: object"
      ]
     },
     "execution_count": 10,
     "metadata": {},
     "output_type": "execute_result"
    }
   ],
   "source": [
    "df.dtypes"
   ]
  },
  {
   "cell_type": "code",
   "execution_count": 14,
   "id": "83b45110-6aa4-4ff4-b3ac-8c6df2078f14",
   "metadata": {},
   "outputs": [
    {
     "data": {
      "text/plain": [
       "array([17.99, 19.  , 18.32, 17.77, 17.4 , 17.5 , 19.27, 18.35, 17.79,\n",
       "       18.14, 18.52, 18.6 , 18.2 , 18.96, 17.93, 18.16, 17.25, 18.78,\n",
       "       18.27, 18.61, 18.3 , 18.23, 18.06, 17.53, 18.65, 18.15, 18.66,\n",
       "       18.25, 17.75, 19.34, 18.72, 17.84, 17.8 , 17.54, 18.02, 18.4 ,\n",
       "       18.1 , 18.33, 18.07, 18.  , 17.33, 18.31, 17.72, 19.01, 18.36,\n",
       "       19.09, 18.67, 18.11, 18.42, 18.01, 19.5 , 18.39, 18.89, 17.59,\n",
       "       17.71, 18.47, 18.69, 17.52, 18.12, 18.51, 18.97, 18.81, 18.76,\n",
       "       18.38, 18.28, 18.24, 18.44, 18.58, 17.68, 18.56, 18.37, 19.33,\n",
       "       19.18, 19.81, 17.86, 18.84, 18.87, 18.5 , 18.83, 19.07, 19.96,\n",
       "       19.24, 18.49, 19.79, 19.15, 18.88, 19.02, 20.92, 20.59])"
      ]
     },
     "execution_count": 14,
     "metadata": {},
     "output_type": "execute_result"
    }
   ],
   "source": [
    "df['JAN'].unique()"
   ]
  },
  {
   "cell_type": "code",
   "execution_count": 15,
   "id": "79a80cf5-9912-47a8-b71f-5ab7894f1557",
   "metadata": {},
   "outputs": [
    {
     "data": {
      "text/plain": [
       "Unnamed: 0    117\n",
       "YEAR          117\n",
       "JAN            89\n",
       "FEB            92\n",
       "MAR            93\n",
       "APR            99\n",
       "MAY            86\n",
       "JUN            84\n",
       "JUL            76\n",
       "AUG            80\n",
       "SEP            74\n",
       "OCT            82\n",
       "NOV            95\n",
       "DEC            88\n",
       "dtype: int64"
      ]
     },
     "execution_count": 15,
     "metadata": {},
     "output_type": "execute_result"
    }
   ],
   "source": [
    "df.nunique()"
   ]
  },
  {
   "cell_type": "code",
   "execution_count": 16,
   "id": "a330fb88-6104-407f-aae3-efd516307fe9",
   "metadata": {},
   "outputs": [
    {
     "data": {
      "text/plain": [
       "Unnamed: 0    117\n",
       "YEAR          117\n",
       "JAN           117\n",
       "FEB           117\n",
       "MAR           117\n",
       "APR           117\n",
       "MAY           117\n",
       "JUN           117\n",
       "JUL           117\n",
       "AUG           117\n",
       "SEP           117\n",
       "OCT           117\n",
       "NOV           117\n",
       "DEC           117\n",
       "dtype: int64"
      ]
     },
     "execution_count": 16,
     "metadata": {},
     "output_type": "execute_result"
    }
   ],
   "source": [
    "df.count()"
   ]
  },
  {
   "cell_type": "code",
   "execution_count": 17,
   "id": "2904a6bf-c1f0-4184-993e-6da7b026d5d7",
   "metadata": {},
   "outputs": [
    {
     "data": {
      "text/plain": [
       "JAN\n",
       "18.32    4\n",
       "18.40    3\n",
       "18.25    3\n",
       "18.20    3\n",
       "18.15    3\n",
       "        ..\n",
       "18.01    1\n",
       "19.50    1\n",
       "18.39    1\n",
       "18.16    1\n",
       "20.59    1\n",
       "Name: count, Length: 89, dtype: int64"
      ]
     },
     "execution_count": 17,
     "metadata": {},
     "output_type": "execute_result"
    }
   ],
   "source": [
    "df['JAN'].value_counts()"
   ]
  },
  {
   "cell_type": "code",
   "execution_count": 18,
   "id": "5eac2d68-a76b-425d-80c6-c44481c5705c",
   "metadata": {},
   "outputs": [
    {
     "name": "stdout",
     "output_type": "stream",
     "text": [
      "<class 'pandas.core.frame.DataFrame'>\n",
      "RangeIndex: 117 entries, 0 to 116\n",
      "Data columns (total 14 columns):\n",
      " #   Column      Non-Null Count  Dtype  \n",
      "---  ------      --------------  -----  \n",
      " 0   Unnamed: 0  117 non-null    int64  \n",
      " 1   YEAR        117 non-null    int64  \n",
      " 2   JAN         117 non-null    float64\n",
      " 3   FEB         117 non-null    float64\n",
      " 4   MAR         117 non-null    float64\n",
      " 5   APR         117 non-null    float64\n",
      " 6   MAY         117 non-null    float64\n",
      " 7   JUN         117 non-null    float64\n",
      " 8   JUL         117 non-null    float64\n",
      " 9   AUG         117 non-null    float64\n",
      " 10  SEP         117 non-null    float64\n",
      " 11  OCT         117 non-null    float64\n",
      " 12  NOV         117 non-null    float64\n",
      " 13  DEC         117 non-null    float64\n",
      "dtypes: float64(12), int64(2)\n",
      "memory usage: 12.9 KB\n"
     ]
    }
   ],
   "source": [
    "df.info()"
   ]
  },
  {
   "cell_type": "markdown",
   "id": "9441699e-d927-43c6-afcc-2dbd0f8e2427",
   "metadata": {},
   "source": [
    "# Find all the unique 'MAR' values in the data ?"
   ]
  },
  {
   "cell_type": "code",
   "execution_count": 19,
   "id": "4eeec84f-5dd7-45f0-a5b4-e4829d8f9ed0",
   "metadata": {},
   "outputs": [
    {
     "data": {
      "text/html": [
       "<div>\n",
       "<style scoped>\n",
       "    .dataframe tbody tr th:only-of-type {\n",
       "        vertical-align: middle;\n",
       "    }\n",
       "\n",
       "    .dataframe tbody tr th {\n",
       "        vertical-align: top;\n",
       "    }\n",
       "\n",
       "    .dataframe thead th {\n",
       "        text-align: right;\n",
       "    }\n",
       "</style>\n",
       "<table border=\"1\" class=\"dataframe\">\n",
       "  <thead>\n",
       "    <tr style=\"text-align: right;\">\n",
       "      <th></th>\n",
       "      <th>Unnamed: 0</th>\n",
       "      <th>YEAR</th>\n",
       "      <th>JAN</th>\n",
       "      <th>FEB</th>\n",
       "      <th>MAR</th>\n",
       "      <th>APR</th>\n",
       "      <th>MAY</th>\n",
       "      <th>JUN</th>\n",
       "      <th>JUL</th>\n",
       "      <th>AUG</th>\n",
       "      <th>SEP</th>\n",
       "      <th>OCT</th>\n",
       "      <th>NOV</th>\n",
       "      <th>DEC</th>\n",
       "    </tr>\n",
       "  </thead>\n",
       "  <tbody>\n",
       "    <tr>\n",
       "      <th>0</th>\n",
       "      <td>0</td>\n",
       "      <td>1901</td>\n",
       "      <td>17.99</td>\n",
       "      <td>19.43</td>\n",
       "      <td>23.49</td>\n",
       "      <td>26.41</td>\n",
       "      <td>28.28</td>\n",
       "      <td>28.60</td>\n",
       "      <td>27.49</td>\n",
       "      <td>26.98</td>\n",
       "      <td>26.26</td>\n",
       "      <td>25.08</td>\n",
       "      <td>21.73</td>\n",
       "      <td>18.95</td>\n",
       "    </tr>\n",
       "    <tr>\n",
       "      <th>1</th>\n",
       "      <td>1</td>\n",
       "      <td>1902</td>\n",
       "      <td>19.00</td>\n",
       "      <td>20.39</td>\n",
       "      <td>24.10</td>\n",
       "      <td>26.54</td>\n",
       "      <td>28.68</td>\n",
       "      <td>28.44</td>\n",
       "      <td>27.29</td>\n",
       "      <td>27.05</td>\n",
       "      <td>25.95</td>\n",
       "      <td>24.37</td>\n",
       "      <td>21.33</td>\n",
       "      <td>18.78</td>\n",
       "    </tr>\n",
       "  </tbody>\n",
       "</table>\n",
       "</div>"
      ],
      "text/plain": [
       "   Unnamed: 0  YEAR    JAN    FEB    MAR    APR    MAY    JUN    JUL    AUG  \\\n",
       "0           0  1901  17.99  19.43  23.49  26.41  28.28  28.60  27.49  26.98   \n",
       "1           1  1902  19.00  20.39  24.10  26.54  28.68  28.44  27.29  27.05   \n",
       "\n",
       "     SEP    OCT    NOV    DEC  \n",
       "0  26.26  25.08  21.73  18.95  \n",
       "1  25.95  24.37  21.33  18.78  "
      ]
     },
     "execution_count": 19,
     "metadata": {},
     "output_type": "execute_result"
    }
   ],
   "source": [
    "df.head(2)"
   ]
  },
  {
   "cell_type": "code",
   "execution_count": 20,
   "id": "6cb19ba0-9b09-4dd1-b57f-0407a0fe89f6",
   "metadata": {},
   "outputs": [
    {
     "data": {
      "text/plain": [
       "Unnamed: 0    117\n",
       "YEAR          117\n",
       "JAN            89\n",
       "FEB            92\n",
       "MAR            93\n",
       "APR            99\n",
       "MAY            86\n",
       "JUN            84\n",
       "JUL            76\n",
       "AUG            80\n",
       "SEP            74\n",
       "OCT            82\n",
       "NOV            95\n",
       "DEC            88\n",
       "dtype: int64"
      ]
     },
     "execution_count": 20,
     "metadata": {},
     "output_type": "execute_result"
    }
   ],
   "source": [
    "df.nunique()"
   ]
  },
  {
   "cell_type": "code",
   "execution_count": 22,
   "id": "3063404b-800d-4b27-8ea5-7133e7dea9b9",
   "metadata": {},
   "outputs": [
    {
     "data": {
      "text/plain": [
       "93"
      ]
     },
     "execution_count": 22,
     "metadata": {},
     "output_type": "execute_result"
    }
   ],
   "source": [
    "df['MAR'].nunique()"
   ]
  },
  {
   "cell_type": "code",
   "execution_count": 26,
   "id": "1542dec2-f429-4e43-b639-3cbedb436992",
   "metadata": {},
   "outputs": [
    {
     "data": {
      "text/plain": [
       "array([23.49, 24.1 , 22.46, 22.95, 21.78, 22.21, 22.03, 22.93, 23.4 ,\n",
       "       22.9 , 22.05, 22.15, 22.63, 22.69, 24.24, 22.64, 23.15, 23.02,\n",
       "       24.26, 23.65, 23.21, 24.12, 23.5 , 22.87, 22.71, 23.23, 24.05,\n",
       "       23.36, 23.31, 23.39, 23.22, 22.97, 22.84, 22.6 , 23.61, 21.98,\n",
       "       22.23, 23.87, 22.54, 23.28, 23.55, 22.72, 23.37, 22.45, 23.13,\n",
       "       22.73, 24.9 , 23.66, 23.93, 23.44, 22.31, 22.65, 23.84, 24.25,\n",
       "       22.81, 23.51, 23.18, 24.52, 23.29, 23.43, 23.33, 23.91, 22.78,\n",
       "       22.98, 24.45, 22.75, 23.24, 23.26, 22.37, 22.68, 23.98, 24.6 ,\n",
       "       23.53, 23.45, 23.  , 22.79, 23.58, 24.14, 25.13, 23.64, 24.18,\n",
       "       24.44, 23.62, 26.19, 23.52, 24.43, 24.55, 26.53, 24.11, 24.53,\n",
       "       23.34, 26.61, 25.58])"
      ]
     },
     "execution_count": 26,
     "metadata": {},
     "output_type": "execute_result"
    }
   ],
   "source": [
    "df['MAR'].unique()# Answer"
   ]
  },
  {
   "cell_type": "markdown",
   "id": "83006b19-f4ef-499b-a24d-73385a42ef2e",
   "metadata": {},
   "source": [
    "# find out all the null values in the data ?"
   ]
  },
  {
   "cell_type": "code",
   "execution_count": 28,
   "id": "e84fcc03-5fdc-4a89-aa9c-0fb758b27069",
   "metadata": {},
   "outputs": [
    {
     "data": {
      "text/plain": [
       "Unnamed: 0    0\n",
       "YEAR          0\n",
       "JAN           0\n",
       "FEB           0\n",
       "MAR           0\n",
       "APR           0\n",
       "MAY           0\n",
       "JUN           0\n",
       "JUL           0\n",
       "AUG           0\n",
       "SEP           0\n",
       "OCT           0\n",
       "NOV           0\n",
       "DEC           0\n",
       "dtype: int64"
      ]
     },
     "execution_count": 28,
     "metadata": {},
     "output_type": "execute_result"
    }
   ],
   "source": [
    "df.isnull().sum()"
   ]
  },
  {
   "cell_type": "code",
   "execution_count": 29,
   "id": "0a6660d3-b258-4182-8c88-1af7e5d34ebb",
   "metadata": {},
   "outputs": [
    {
     "data": {
      "text/plain": [
       "Unnamed: 0    117\n",
       "YEAR          117\n",
       "JAN           117\n",
       "FEB           117\n",
       "MAR           117\n",
       "APR           117\n",
       "MAY           117\n",
       "JUN           117\n",
       "JUL           117\n",
       "AUG           117\n",
       "SEP           117\n",
       "OCT           117\n",
       "NOV           117\n",
       "DEC           117\n",
       "dtype: int64"
      ]
     },
     "execution_count": 29,
     "metadata": {},
     "output_type": "execute_result"
    }
   ],
   "source": [
    "df.notnull().sum()"
   ]
  },
  {
   "cell_type": "markdown",
   "id": "c925a702-75d5-4bd3-96d4-3f0eadcc4834",
   "metadata": {},
   "source": [
    "# rename the column name 'YEAR'of the dataframe to YEAR COUNT' ?"
   ]
  },
  {
   "cell_type": "code",
   "execution_count": 32,
   "id": "712d82fb-e0a9-4347-a87b-8ddc5977d9b6",
   "metadata": {},
   "outputs": [
    {
     "data": {
      "text/html": [
       "<div>\n",
       "<style scoped>\n",
       "    .dataframe tbody tr th:only-of-type {\n",
       "        vertical-align: middle;\n",
       "    }\n",
       "\n",
       "    .dataframe tbody tr th {\n",
       "        vertical-align: top;\n",
       "    }\n",
       "\n",
       "    .dataframe thead th {\n",
       "        text-align: right;\n",
       "    }\n",
       "</style>\n",
       "<table border=\"1\" class=\"dataframe\">\n",
       "  <thead>\n",
       "    <tr style=\"text-align: right;\">\n",
       "      <th></th>\n",
       "      <th>Unnamed: 0</th>\n",
       "      <th>YEAR</th>\n",
       "      <th>JAN</th>\n",
       "      <th>FEB</th>\n",
       "      <th>MAR</th>\n",
       "      <th>APR</th>\n",
       "      <th>MAY</th>\n",
       "      <th>JUN</th>\n",
       "      <th>JUL</th>\n",
       "      <th>AUG</th>\n",
       "      <th>SEP</th>\n",
       "      <th>OCT</th>\n",
       "      <th>NOV</th>\n",
       "      <th>DEC</th>\n",
       "    </tr>\n",
       "  </thead>\n",
       "  <tbody>\n",
       "    <tr>\n",
       "      <th>0</th>\n",
       "      <td>0</td>\n",
       "      <td>1901</td>\n",
       "      <td>17.99</td>\n",
       "      <td>19.43</td>\n",
       "      <td>23.49</td>\n",
       "      <td>26.41</td>\n",
       "      <td>28.28</td>\n",
       "      <td>28.60</td>\n",
       "      <td>27.49</td>\n",
       "      <td>26.98</td>\n",
       "      <td>26.26</td>\n",
       "      <td>25.08</td>\n",
       "      <td>21.73</td>\n",
       "      <td>18.95</td>\n",
       "    </tr>\n",
       "    <tr>\n",
       "      <th>1</th>\n",
       "      <td>1</td>\n",
       "      <td>1902</td>\n",
       "      <td>19.00</td>\n",
       "      <td>20.39</td>\n",
       "      <td>24.10</td>\n",
       "      <td>26.54</td>\n",
       "      <td>28.68</td>\n",
       "      <td>28.44</td>\n",
       "      <td>27.29</td>\n",
       "      <td>27.05</td>\n",
       "      <td>25.95</td>\n",
       "      <td>24.37</td>\n",
       "      <td>21.33</td>\n",
       "      <td>18.78</td>\n",
       "    </tr>\n",
       "  </tbody>\n",
       "</table>\n",
       "</div>"
      ],
      "text/plain": [
       "   Unnamed: 0  YEAR    JAN    FEB    MAR    APR    MAY    JUN    JUL    AUG  \\\n",
       "0           0  1901  17.99  19.43  23.49  26.41  28.28  28.60  27.49  26.98   \n",
       "1           1  1902  19.00  20.39  24.10  26.54  28.68  28.44  27.29  27.05   \n",
       "\n",
       "     SEP    OCT    NOV    DEC  \n",
       "0  26.26  25.08  21.73  18.95  \n",
       "1  25.95  24.37  21.33  18.78  "
      ]
     },
     "execution_count": 32,
     "metadata": {},
     "output_type": "execute_result"
    }
   ],
   "source": [
    "df.head(2)"
   ]
  },
  {
   "cell_type": "code",
   "execution_count": 40,
   "id": "4b85a52c-4d52-4a2f-8f2e-8780b54e1f00",
   "metadata": {},
   "outputs": [
    {
     "data": {
      "text/html": [
       "<div>\n",
       "<style scoped>\n",
       "    .dataframe tbody tr th:only-of-type {\n",
       "        vertical-align: middle;\n",
       "    }\n",
       "\n",
       "    .dataframe tbody tr th {\n",
       "        vertical-align: top;\n",
       "    }\n",
       "\n",
       "    .dataframe thead th {\n",
       "        text-align: right;\n",
       "    }\n",
       "</style>\n",
       "<table border=\"1\" class=\"dataframe\">\n",
       "  <thead>\n",
       "    <tr style=\"text-align: right;\">\n",
       "      <th></th>\n",
       "      <th>Unnamed: 0</th>\n",
       "      <th>YEAR COUNT</th>\n",
       "      <th>JAN</th>\n",
       "      <th>FEB</th>\n",
       "      <th>MAR</th>\n",
       "      <th>APR</th>\n",
       "      <th>MAY</th>\n",
       "      <th>JUN</th>\n",
       "      <th>JUL</th>\n",
       "      <th>AUG</th>\n",
       "      <th>SEP</th>\n",
       "      <th>OCT</th>\n",
       "      <th>NOV</th>\n",
       "      <th>DEC</th>\n",
       "    </tr>\n",
       "  </thead>\n",
       "  <tbody>\n",
       "    <tr>\n",
       "      <th>0</th>\n",
       "      <td>0</td>\n",
       "      <td>1901</td>\n",
       "      <td>17.99</td>\n",
       "      <td>19.43</td>\n",
       "      <td>23.49</td>\n",
       "      <td>26.41</td>\n",
       "      <td>28.28</td>\n",
       "      <td>28.60</td>\n",
       "      <td>27.49</td>\n",
       "      <td>26.98</td>\n",
       "      <td>26.26</td>\n",
       "      <td>25.08</td>\n",
       "      <td>21.73</td>\n",
       "      <td>18.95</td>\n",
       "    </tr>\n",
       "    <tr>\n",
       "      <th>1</th>\n",
       "      <td>1</td>\n",
       "      <td>1902</td>\n",
       "      <td>19.00</td>\n",
       "      <td>20.39</td>\n",
       "      <td>24.10</td>\n",
       "      <td>26.54</td>\n",
       "      <td>28.68</td>\n",
       "      <td>28.44</td>\n",
       "      <td>27.29</td>\n",
       "      <td>27.05</td>\n",
       "      <td>25.95</td>\n",
       "      <td>24.37</td>\n",
       "      <td>21.33</td>\n",
       "      <td>18.78</td>\n",
       "    </tr>\n",
       "    <tr>\n",
       "      <th>2</th>\n",
       "      <td>2</td>\n",
       "      <td>1903</td>\n",
       "      <td>18.32</td>\n",
       "      <td>19.79</td>\n",
       "      <td>22.46</td>\n",
       "      <td>26.03</td>\n",
       "      <td>27.93</td>\n",
       "      <td>28.41</td>\n",
       "      <td>28.04</td>\n",
       "      <td>26.63</td>\n",
       "      <td>26.34</td>\n",
       "      <td>24.57</td>\n",
       "      <td>20.96</td>\n",
       "      <td>18.29</td>\n",
       "    </tr>\n",
       "    <tr>\n",
       "      <th>3</th>\n",
       "      <td>3</td>\n",
       "      <td>1904</td>\n",
       "      <td>17.77</td>\n",
       "      <td>19.39</td>\n",
       "      <td>22.95</td>\n",
       "      <td>26.73</td>\n",
       "      <td>27.83</td>\n",
       "      <td>27.85</td>\n",
       "      <td>26.84</td>\n",
       "      <td>26.73</td>\n",
       "      <td>25.84</td>\n",
       "      <td>24.36</td>\n",
       "      <td>21.07</td>\n",
       "      <td>18.84</td>\n",
       "    </tr>\n",
       "    <tr>\n",
       "      <th>4</th>\n",
       "      <td>4</td>\n",
       "      <td>1905</td>\n",
       "      <td>17.40</td>\n",
       "      <td>17.79</td>\n",
       "      <td>21.78</td>\n",
       "      <td>24.84</td>\n",
       "      <td>28.32</td>\n",
       "      <td>28.69</td>\n",
       "      <td>27.67</td>\n",
       "      <td>27.47</td>\n",
       "      <td>26.29</td>\n",
       "      <td>26.16</td>\n",
       "      <td>22.07</td>\n",
       "      <td>18.71</td>\n",
       "    </tr>\n",
       "    <tr>\n",
       "      <th>...</th>\n",
       "      <td>...</td>\n",
       "      <td>...</td>\n",
       "      <td>...</td>\n",
       "      <td>...</td>\n",
       "      <td>...</td>\n",
       "      <td>...</td>\n",
       "      <td>...</td>\n",
       "      <td>...</td>\n",
       "      <td>...</td>\n",
       "      <td>...</td>\n",
       "      <td>...</td>\n",
       "      <td>...</td>\n",
       "      <td>...</td>\n",
       "      <td>...</td>\n",
       "    </tr>\n",
       "    <tr>\n",
       "      <th>112</th>\n",
       "      <td>112</td>\n",
       "      <td>2013</td>\n",
       "      <td>18.88</td>\n",
       "      <td>21.07</td>\n",
       "      <td>24.53</td>\n",
       "      <td>26.97</td>\n",
       "      <td>29.06</td>\n",
       "      <td>28.24</td>\n",
       "      <td>27.50</td>\n",
       "      <td>27.22</td>\n",
       "      <td>26.87</td>\n",
       "      <td>25.63</td>\n",
       "      <td>22.18</td>\n",
       "      <td>19.69</td>\n",
       "    </tr>\n",
       "    <tr>\n",
       "      <th>113</th>\n",
       "      <td>113</td>\n",
       "      <td>2014</td>\n",
       "      <td>18.81</td>\n",
       "      <td>20.35</td>\n",
       "      <td>23.34</td>\n",
       "      <td>26.91</td>\n",
       "      <td>28.45</td>\n",
       "      <td>29.42</td>\n",
       "      <td>28.07</td>\n",
       "      <td>27.42</td>\n",
       "      <td>26.61</td>\n",
       "      <td>25.38</td>\n",
       "      <td>22.53</td>\n",
       "      <td>19.50</td>\n",
       "    </tr>\n",
       "    <tr>\n",
       "      <th>114</th>\n",
       "      <td>114</td>\n",
       "      <td>2015</td>\n",
       "      <td>19.02</td>\n",
       "      <td>21.23</td>\n",
       "      <td>23.52</td>\n",
       "      <td>26.52</td>\n",
       "      <td>28.82</td>\n",
       "      <td>28.15</td>\n",
       "      <td>28.03</td>\n",
       "      <td>27.64</td>\n",
       "      <td>27.04</td>\n",
       "      <td>25.82</td>\n",
       "      <td>22.95</td>\n",
       "      <td>20.21</td>\n",
       "    </tr>\n",
       "    <tr>\n",
       "      <th>115</th>\n",
       "      <td>115</td>\n",
       "      <td>2016</td>\n",
       "      <td>20.92</td>\n",
       "      <td>23.58</td>\n",
       "      <td>26.61</td>\n",
       "      <td>29.56</td>\n",
       "      <td>30.41</td>\n",
       "      <td>29.70</td>\n",
       "      <td>28.18</td>\n",
       "      <td>28.17</td>\n",
       "      <td>27.72</td>\n",
       "      <td>26.81</td>\n",
       "      <td>23.90</td>\n",
       "      <td>21.89</td>\n",
       "    </tr>\n",
       "    <tr>\n",
       "      <th>116</th>\n",
       "      <td>116</td>\n",
       "      <td>2017</td>\n",
       "      <td>20.59</td>\n",
       "      <td>23.08</td>\n",
       "      <td>25.58</td>\n",
       "      <td>29.17</td>\n",
       "      <td>30.47</td>\n",
       "      <td>29.44</td>\n",
       "      <td>28.31</td>\n",
       "      <td>28.12</td>\n",
       "      <td>28.11</td>\n",
       "      <td>27.24</td>\n",
       "      <td>23.92</td>\n",
       "      <td>21.47</td>\n",
       "    </tr>\n",
       "  </tbody>\n",
       "</table>\n",
       "<p>117 rows × 14 columns</p>\n",
       "</div>"
      ],
      "text/plain": [
       "     Unnamed: 0  YEAR COUNT    JAN    FEB    MAR    APR    MAY    JUN    JUL  \\\n",
       "0             0        1901  17.99  19.43  23.49  26.41  28.28  28.60  27.49   \n",
       "1             1        1902  19.00  20.39  24.10  26.54  28.68  28.44  27.29   \n",
       "2             2        1903  18.32  19.79  22.46  26.03  27.93  28.41  28.04   \n",
       "3             3        1904  17.77  19.39  22.95  26.73  27.83  27.85  26.84   \n",
       "4             4        1905  17.40  17.79  21.78  24.84  28.32  28.69  27.67   \n",
       "..          ...         ...    ...    ...    ...    ...    ...    ...    ...   \n",
       "112         112        2013  18.88  21.07  24.53  26.97  29.06  28.24  27.50   \n",
       "113         113        2014  18.81  20.35  23.34  26.91  28.45  29.42  28.07   \n",
       "114         114        2015  19.02  21.23  23.52  26.52  28.82  28.15  28.03   \n",
       "115         115        2016  20.92  23.58  26.61  29.56  30.41  29.70  28.18   \n",
       "116         116        2017  20.59  23.08  25.58  29.17  30.47  29.44  28.31   \n",
       "\n",
       "       AUG    SEP    OCT    NOV    DEC  \n",
       "0    26.98  26.26  25.08  21.73  18.95  \n",
       "1    27.05  25.95  24.37  21.33  18.78  \n",
       "2    26.63  26.34  24.57  20.96  18.29  \n",
       "3    26.73  25.84  24.36  21.07  18.84  \n",
       "4    27.47  26.29  26.16  22.07  18.71  \n",
       "..     ...    ...    ...    ...    ...  \n",
       "112  27.22  26.87  25.63  22.18  19.69  \n",
       "113  27.42  26.61  25.38  22.53  19.50  \n",
       "114  27.64  27.04  25.82  22.95  20.21  \n",
       "115  28.17  27.72  26.81  23.90  21.89  \n",
       "116  28.12  28.11  27.24  23.92  21.47  \n",
       "\n",
       "[117 rows x 14 columns]"
      ]
     },
     "execution_count": 40,
     "metadata": {},
     "output_type": "execute_result"
    }
   ],
   "source": [
    "df.rename(columns = {'YEAR':'YEAR COUNT'})"
   ]
  },
  {
   "cell_type": "code",
   "execution_count": 39,
   "id": "447bcaa2-33ee-40a5-80e1-6e29e1fb4329",
   "metadata": {},
   "outputs": [
    {
     "data": {
      "text/html": [
       "<div>\n",
       "<style scoped>\n",
       "    .dataframe tbody tr th:only-of-type {\n",
       "        vertical-align: middle;\n",
       "    }\n",
       "\n",
       "    .dataframe tbody tr th {\n",
       "        vertical-align: top;\n",
       "    }\n",
       "\n",
       "    .dataframe thead th {\n",
       "        text-align: right;\n",
       "    }\n",
       "</style>\n",
       "<table border=\"1\" class=\"dataframe\">\n",
       "  <thead>\n",
       "    <tr style=\"text-align: right;\">\n",
       "      <th></th>\n",
       "      <th>Unnamed: 0</th>\n",
       "      <th>YEAR</th>\n",
       "      <th>JAN</th>\n",
       "      <th>FEB</th>\n",
       "      <th>MAR</th>\n",
       "      <th>APR</th>\n",
       "      <th>MAY</th>\n",
       "      <th>JUN</th>\n",
       "      <th>JUL</th>\n",
       "      <th>AUG</th>\n",
       "      <th>SEP</th>\n",
       "      <th>OCT</th>\n",
       "      <th>NOV</th>\n",
       "      <th>DEC</th>\n",
       "    </tr>\n",
       "  </thead>\n",
       "  <tbody>\n",
       "    <tr>\n",
       "      <th>0</th>\n",
       "      <td>0</td>\n",
       "      <td>1901</td>\n",
       "      <td>17.99</td>\n",
       "      <td>19.43</td>\n",
       "      <td>23.49</td>\n",
       "      <td>26.41</td>\n",
       "      <td>28.28</td>\n",
       "      <td>28.60</td>\n",
       "      <td>27.49</td>\n",
       "      <td>26.98</td>\n",
       "      <td>26.26</td>\n",
       "      <td>25.08</td>\n",
       "      <td>21.73</td>\n",
       "      <td>18.95</td>\n",
       "    </tr>\n",
       "    <tr>\n",
       "      <th>1</th>\n",
       "      <td>1</td>\n",
       "      <td>1902</td>\n",
       "      <td>19.00</td>\n",
       "      <td>20.39</td>\n",
       "      <td>24.10</td>\n",
       "      <td>26.54</td>\n",
       "      <td>28.68</td>\n",
       "      <td>28.44</td>\n",
       "      <td>27.29</td>\n",
       "      <td>27.05</td>\n",
       "      <td>25.95</td>\n",
       "      <td>24.37</td>\n",
       "      <td>21.33</td>\n",
       "      <td>18.78</td>\n",
       "    </tr>\n",
       "  </tbody>\n",
       "</table>\n",
       "</div>"
      ],
      "text/plain": [
       "   Unnamed: 0  YEAR    JAN    FEB    MAR    APR    MAY    JUN    JUL    AUG  \\\n",
       "0           0  1901  17.99  19.43  23.49  26.41  28.28  28.60  27.49  26.98   \n",
       "1           1  1902  19.00  20.39  24.10  26.54  28.68  28.44  27.29  27.05   \n",
       "\n",
       "     SEP    OCT    NOV    DEC  \n",
       "0  26.26  25.08  21.73  18.95  \n",
       "1  25.95  24.37  21.33  18.78  "
      ]
     },
     "execution_count": 39,
     "metadata": {},
     "output_type": "execute_result"
    }
   ],
   "source": [
    "df.head(2)"
   ]
  },
  {
   "cell_type": "markdown",
   "id": "f391d4b0-0693-41a0-af0d-aa44b88dbdb8",
   "metadata": {},
   "source": [
    "# what is the mean 'oct'?"
   ]
  },
  {
   "cell_type": "code",
   "execution_count": 41,
   "id": "501b597b-de1d-4456-aa4e-ce5424634783",
   "metadata": {},
   "outputs": [
    {
     "data": {
      "text/html": [
       "<div>\n",
       "<style scoped>\n",
       "    .dataframe tbody tr th:only-of-type {\n",
       "        vertical-align: middle;\n",
       "    }\n",
       "\n",
       "    .dataframe tbody tr th {\n",
       "        vertical-align: top;\n",
       "    }\n",
       "\n",
       "    .dataframe thead th {\n",
       "        text-align: right;\n",
       "    }\n",
       "</style>\n",
       "<table border=\"1\" class=\"dataframe\">\n",
       "  <thead>\n",
       "    <tr style=\"text-align: right;\">\n",
       "      <th></th>\n",
       "      <th>Unnamed: 0</th>\n",
       "      <th>YEAR</th>\n",
       "      <th>JAN</th>\n",
       "      <th>FEB</th>\n",
       "      <th>MAR</th>\n",
       "      <th>APR</th>\n",
       "      <th>MAY</th>\n",
       "      <th>JUN</th>\n",
       "      <th>JUL</th>\n",
       "      <th>AUG</th>\n",
       "      <th>SEP</th>\n",
       "      <th>OCT</th>\n",
       "      <th>NOV</th>\n",
       "      <th>DEC</th>\n",
       "    </tr>\n",
       "  </thead>\n",
       "  <tbody>\n",
       "    <tr>\n",
       "      <th>0</th>\n",
       "      <td>0</td>\n",
       "      <td>1901</td>\n",
       "      <td>17.99</td>\n",
       "      <td>19.43</td>\n",
       "      <td>23.49</td>\n",
       "      <td>26.41</td>\n",
       "      <td>28.28</td>\n",
       "      <td>28.60</td>\n",
       "      <td>27.49</td>\n",
       "      <td>26.98</td>\n",
       "      <td>26.26</td>\n",
       "      <td>25.08</td>\n",
       "      <td>21.73</td>\n",
       "      <td>18.95</td>\n",
       "    </tr>\n",
       "    <tr>\n",
       "      <th>1</th>\n",
       "      <td>1</td>\n",
       "      <td>1902</td>\n",
       "      <td>19.00</td>\n",
       "      <td>20.39</td>\n",
       "      <td>24.10</td>\n",
       "      <td>26.54</td>\n",
       "      <td>28.68</td>\n",
       "      <td>28.44</td>\n",
       "      <td>27.29</td>\n",
       "      <td>27.05</td>\n",
       "      <td>25.95</td>\n",
       "      <td>24.37</td>\n",
       "      <td>21.33</td>\n",
       "      <td>18.78</td>\n",
       "    </tr>\n",
       "  </tbody>\n",
       "</table>\n",
       "</div>"
      ],
      "text/plain": [
       "   Unnamed: 0  YEAR    JAN    FEB    MAR    APR    MAY    JUN    JUL    AUG  \\\n",
       "0           0  1901  17.99  19.43  23.49  26.41  28.28  28.60  27.49  26.98   \n",
       "1           1  1902  19.00  20.39  24.10  26.54  28.68  28.44  27.29  27.05   \n",
       "\n",
       "     SEP    OCT    NOV    DEC  \n",
       "0  26.26  25.08  21.73  18.95  \n",
       "1  25.95  24.37  21.33  18.78  "
      ]
     },
     "execution_count": 41,
     "metadata": {},
     "output_type": "execute_result"
    }
   ],
   "source": [
    "df.head(2)"
   ]
  },
  {
   "cell_type": "code",
   "execution_count": 42,
   "id": "4e2c42ae-25ca-4d28-8244-67d908fa52f4",
   "metadata": {},
   "outputs": [
    {
     "data": {
      "text/plain": [
       "24.742051282051282"
      ]
     },
     "execution_count": 42,
     "metadata": {},
     "output_type": "execute_result"
    }
   ],
   "source": [
    "df.OCT.mean()"
   ]
  },
  {
   "cell_type": "markdown",
   "id": "78f4672b-d102-4c30-ad06-780ead8d95d7",
   "metadata": {},
   "source": [
    "# what is the standard deviation of 'MAR' in this data"
   ]
  },
  {
   "cell_type": "code",
   "execution_count": 43,
   "id": "12d93e27-5c1e-47a4-808c-7a936c05c300",
   "metadata": {},
   "outputs": [
    {
     "data": {
      "text/plain": [
       "0.8628253902114356"
      ]
     },
     "execution_count": 43,
     "metadata": {},
     "output_type": "execute_result"
    }
   ],
   "source": [
    "df.MAR.std()"
   ]
  },
  {
   "cell_type": "markdown",
   "id": "8df35fa3-b90a-42fc-8742-482c8f36fd5e",
   "metadata": {},
   "source": [
    "# what is the variance of 'MAR' in this data"
   ]
  },
  {
   "cell_type": "code",
   "execution_count": 45,
   "id": "2e77f5ec-66b9-4072-ae0e-2dff755429d1",
   "metadata": {},
   "outputs": [
    {
     "data": {
      "text/plain": [
       "0.744467653993516"
      ]
     },
     "execution_count": 45,
     "metadata": {},
     "output_type": "execute_result"
    }
   ],
   "source": [
    "df['MAR'].var()"
   ]
  }
 ],
 "metadata": {
  "kernelspec": {
   "display_name": "Python 3 (ipykernel)",
   "language": "python",
   "name": "python3"
  },
  "language_info": {
   "codemirror_mode": {
    "name": "ipython",
    "version": 3
   },
   "file_extension": ".py",
   "mimetype": "text/x-python",
   "name": "python",
   "nbconvert_exporter": "python",
   "pygments_lexer": "ipython3",
   "version": "3.11.4"
  }
 },
 "nbformat": 4,
 "nbformat_minor": 5
}
